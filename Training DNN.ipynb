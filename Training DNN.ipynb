{
 "cells": [
  {
   "cell_type": "code",
   "execution_count": 1,
   "metadata": {},
   "outputs": [],
   "source": [
    "\n",
    "# Define IAM role\n",
    "import boto3\n",
    "import re\n",
    "\n",
    "import os\n",
    "import numpy as np\n",
    "import pandas as pd\n",
    "from sagemaker import get_execution_role\n",
    "\n",
    "role = get_execution_role()\n",
    "\n",
    "import sagemaker as sage\n",
    "from time import gmtime, strftime\n",
    "\n",
    "sess = sage.Session()\n",
    "bucket = 'oosv-dnn'\n",
    "snippet_length = 75\n"
   ]
  },
  {
   "cell_type": "code",
   "execution_count": 6,
   "metadata": {},
   "outputs": [],
   "source": [
    "def get_data(file_name, bucket):\n",
    "    prefix = '/tmp/data/'\n",
    "    s3 = boto3.resource('s3')\n",
    "    s3.Bucket(bucket).download_file('data/' + file_name, prefix + file_name)\n",
    "    df = pd.read_csv(prefix + file_name)\n",
    "    os.remove(prefix + file_name)\n",
    "    return df.as_matrix()"
   ]
  },
  {
   "cell_type": "code",
   "execution_count": 8,
   "metadata": {},
   "outputs": [],
   "source": [
    "data_en = get_data('english.csv', bucket)\n",
    "data_es = get_data('spanish.csv', bucket)\n",
    "data_en = data_en[(len(data_en) % snippet_length):]\n",
    "data_es = data_es[(len(data_es) % snippet_length):]"
   ]
  },
  {
   "cell_type": "code",
   "execution_count": 35,
   "metadata": {},
   "outputs": [
    {
     "name": "stdout",
     "output_type": "stream",
     "text": [
      "3704175\n",
      "1320225\n"
     ]
    }
   ],
   "source": [
    "dist_en = int(len(data_en) * 3 / 4) - int(len(data_en) * 3 / 4) % snippet_length\n",
    "dist_es = int(len(data_es) * 3 / 4) - int(len(data_es) * 3 / 4) % snippet_length\n",
    "print(dist_en)\n",
    "print(dist_es)"
   ]
  },
  {
   "cell_type": "code",
   "execution_count": 37,
   "metadata": {},
   "outputs": [
    {
     "name": "stdout",
     "output_type": "stream",
     "text": [
      "0\n",
      "0\n",
      "0\n",
      "0\n"
     ]
    }
   ],
   "source": [
    "train_en = data_en[:dist_en]\n",
    "train_es = data_es[:dist_es]\n",
    "test_en = data_en[dist_en:]\n",
    "test_es = data_es[dist_es:]\n",
    "print(len(train_en) % snippet_length)\n",
    "print(len(train_es) % snippet_length)\n",
    "print(len(test_en) % snippet_length)\n",
    "print(len(test_es) % snippet_length)"
   ]
  },
  {
   "cell_type": "code",
   "execution_count": 38,
   "metadata": {},
   "outputs": [],
   "source": [
    "train_dir = '/tmp/data/train'\n",
    "test_dir = '/tmp/data/test'\n",
    "pd.DataFrame(train_en).to_csv(train_dir + '/english.csv', index=False)\n",
    "pd.DataFrame(train_es).to_csv(train_dir + '/spanish.csv', index=False)\n",
    "pd.DataFrame(train_en).to_csv(test_dir  + '/english.csv', index=False)\n",
    "pd.DataFrame(train_es).to_csv(test_dir  + '/spanish.csv', index=False)"
   ]
  },
  {
   "cell_type": "code",
   "execution_count": 39,
   "metadata": {},
   "outputs": [],
   "source": [
    "train_key = 'data/train'\n",
    "test_key = 'data/test'\n",
    "train_data_location = sess.upload_data(train_dir, bucket=bucket, key_prefix=train_key)\n",
    "test_data_location = sess.upload_data(test_dir, bucket=bucket, key_prefix=test_key)"
   ]
  },
  {
   "cell_type": "code",
   "execution_count": 16,
   "metadata": {},
   "outputs": [],
   "source": [
    "# hyperparameters: n_clusters = 30, cov_type='full', iter = 100, snippet_length=75, languages=2\n",
    "\n",
    "# hyper_params = {'n_clusters' : [50,50]}"
   ]
  },
  {
   "cell_type": "code",
   "execution_count": 24,
   "metadata": {},
   "outputs": [],
   "source": [
    "account = sess.boto_session.client('sts').get_caller_identity()['Account']\n",
    "region = sess.boto_session.region_name\n",
    "image = '{}.dkr.ecr.{}.amazonaws.com/dnn-image-1:latest'.format(account, region)\n",
    "\n",
    "gmm_model = sage.estimator.Estimator(image,\n",
    "                       role, 1, 'ml.c4.4xlarge',\n",
    "                       train_volume_size=50,\n",
    "                       output_path=\"s3://{}/output\".format(bucket),\n",
    "                       sagemaker_session=sess,\n",
    "                       hyperparameters=hyper_params)\n",
    "\n",
    "gmm_model.fit(data_location)"
   ]
  },
  {
   "cell_type": "code",
   "execution_count": 40,
   "metadata": {},
   "outputs": [],
   "source": [
    "variants = [{'n_clusters' : [60,60]}, \\\n",
    "            {'n_clusters' : [50,60]}, \\\n",
    "            {'n_clusters' : [40,60]}, \\\n",
    "            {'n_clusters' : [30,60]}, \\\n",
    "            {'n_clusters' : [50,50]}, \\\n",
    "            {'n_clusters' : [40,50]}, \\\n",
    "            {'n_clusters' : [30,50]}, \\\n",
    "            {'n_clusters' : [40,40]}, \\\n",
    "            {'n_clusters' : [30,40]}, \\\n",
    "            {'n_clusters' : [30,30]}, \\\n",
    "            {'n_clusters' : [60,50]}, \\\n",
    "            {'n_clusters' : [60,40]}, \\\n",
    "            {'n_clusters' : [60,30]}, \\\n",
    "            {'n_clusters' : [50,40]}, \\\n",
    "            {'n_clusters' : [50,30]}, \\\n",
    "            {'n_clusters' : [40,40]}]"
   ]
  },
  {
   "cell_type": "code",
   "execution_count": null,
   "metadata": {},
   "outputs": [
    {
     "name": "stderr",
     "output_type": "stream",
     "text": [
      "INFO:sagemaker:Creating training-job with name: gmm-image-1-2018-09-22-02-35-21-818\n",
      "INFO:sagemaker:Creating training-job with name: gmm-image-1-2018-09-22-02-35-22-056\n",
      "INFO:sagemaker:Creating training-job with name: gmm-image-1-2018-09-22-02-35-22-938\n",
      "INFO:sagemaker:Creating training-job with name: gmm-image-1-2018-09-22-02-35-31-732\n"
     ]
    },
    {
     "name": "stdout",
     "output_type": "stream",
     "text": [
      "......................\n",
      "\u001b[31m/opt/program/train:54: FutureWarning: Method .as_matrix will be removed in a future version. Use .values instead.\n",
      "  data_x.append(pd.read_csv(os.path.join(training_path, language)).as_matrix())\u001b[0m\n",
      "\u001b[31m[SUCCESS] data parsed\u001b[0m\n",
      "\u001b[31m<class 'list'>\u001b[0m\n",
      "\u001b[31m[30, 60]\u001b[0m\n",
      "\u001b[31m[SUCCESS] model created\u001b[0m\n",
      "\u001b[31mshape before: (3704175, 39)\u001b[0m\n",
      "\u001b[31mshape after: (49389, 75, 39)\u001b[0m\n"
     ]
    }
   ],
   "source": [
    "for count, variant in enumerate(variants, 1):\n",
    "    gmm_model = sage.estimator.Estimator(image,\n",
    "                       role, 1, 'ml.c4.4xlarge',\n",
    "                       train_volume_size=50,\n",
    "                       output_path=\"s3://{}/output\".format(bucket),\n",
    "                       sagemaker_session=sess,\n",
    "                       hyperparameters=variant)\n",
    "    if count % 4 == 0:\n",
    "        gmm_model.fit(data_location, wait = True)\n",
    "    else:\n",
    "        gmm_model.fit(data_location, wait = False)"
   ]
  },
  {
   "cell_type": "code",
   "execution_count": null,
   "metadata": {},
   "outputs": [],
   "source": []
  }
 ],
 "metadata": {
  "kernelspec": {
   "display_name": "conda_python3",
   "language": "python",
   "name": "conda_python3"
  },
  "language_info": {
   "codemirror_mode": {
    "name": "ipython",
    "version": 3
   },
   "file_extension": ".py",
   "mimetype": "text/x-python",
   "name": "python",
   "nbconvert_exporter": "python",
   "pygments_lexer": "ipython3",
   "version": "3.6.5"
  }
 },
 "nbformat": 4,
 "nbformat_minor": 2
}
