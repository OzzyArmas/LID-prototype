{
 "cells": [
  {
   "cell_type": "code",
   "execution_count": 34,
   "metadata": {},
   "outputs": [],
   "source": [
    "import boto3\n",
    "from sagemaker import get_execution_role\n",
    "import pandas as pd\n",
    "import numpy as np\n",
    "import os\n",
    "role = get_execution_role()"
   ]
  },
  {
   "cell_type": "code",
   "execution_count": 47,
   "metadata": {},
   "outputs": [],
   "source": [
    "def get_data(file_name):\n",
    "    s3 = boto3.resource('s3')\n",
    "    s3.Bucket('oosv-sagemaker-bucket1').download_file('data/' + file_name, file_name)\n",
    "    df = pd.read_csv(file_name)\n",
    "    os.remove(file_name)\n",
    "    return df.as_matrix()"
   ]
  },
  {
   "cell_type": "code",
   "execution_count": 51,
   "metadata": {},
   "outputs": [
    {
     "name": "stdout",
     "output_type": "stream",
     "text": [
      "(1760325, 39)\n",
      "(4939049, 39)\n",
      "(1760325, 39)\n",
      "(4938975, 39)\n",
      "[ 1.07925819e+01 -3.72304979e+00  1.71936253e+01  1.73390476e+01\n",
      "  4.44450394e+00  1.16848528e+01  2.32587857e+00  9.84613189e+00\n",
      "  1.34391571e+01 -6.41916462e+00  1.15366788e+01  5.04457432e+00\n",
      " -6.38155963e+00 -3.32922300e-02  1.02552683e+00 -1.58195645e+00\n",
      " -7.12041933e-02  2.19532491e+00 -3.63804157e+00  1.00460387e+00\n",
      "  1.91507799e+00 -4.59325777e+00  4.45664821e-01  3.10244348e+00\n",
      " -1.43183091e+00 -1.44078525e+00 -3.11959309e-03  3.06593247e-01\n",
      "  1.84430276e-01 -6.60064651e-01  5.42640886e-01 -4.99881947e-01\n",
      "  9.48443647e-01 -1.86166601e-01 -9.65795141e-01  1.66644619e+00\n",
      " -7.89592904e-01 -2.85218212e-01  6.67445509e-01]\n"
     ]
    }
   ],
   "source": [
    "features_es = get_data('spanish_data.csv')\n",
    "features_en = get_data('english_data.csv')\n",
    "\n",
    "sample_length = 75 #75 utterances * 10ms = 750ms samples\n",
    "print(np.shape(features_es))\n",
    "print(np.shape(features_en))\n",
    "\n",
    "#the first line was saved as a header, so we get rid of the first sample\n",
    "features_es = features_es[sample_length - 1:]\n",
    "features_en = features_en[sample_length - 1:]\n",
    "\n",
    "print(np.shape(features_es))\n",
    "print(np.shape(features_en))\n",
    "print(features_es[0])\n"
   ]
  },
  {
   "cell_type": "code",
   "execution_count": 52,
   "metadata": {},
   "outputs": [],
   "source": [
    "from extractor import extractor\n",
    "import imp\n",
    "from models import gmm\n",
    "imp.reload(gmm)\n",
    "single_model = gmm.GMM()"
   ]
  },
  {
   "cell_type": "code",
   "execution_count": 53,
   "metadata": {},
   "outputs": [
    {
     "name": "stdout",
     "output_type": "stream",
     "text": [
      "312\n",
      "(23471, 75, 39)\n",
      "(65853, 75, 39)\n"
     ]
    }
   ],
   "source": [
    "features_es = features_es.reshape((int(np.shape(features_es)[0] / sample_length), sample_length, -1))\n",
    "features_en = features_en.reshape((int(np.shape(features_en)[0] / sample_length), sample_length, -1))\n",
    "print(int(np.shape(features_es)[0]/sample_length))\n",
    "print(np.shape(features_es))\n",
    "print(np.shape(features_en))"
   ]
  },
  {
   "cell_type": "code",
   "execution_count": 76,
   "metadata": {},
   "outputs": [
    {
     "name": "stdout",
     "output_type": "stream",
     "text": [
      "total samples_en:\t65853\n",
      "total hours english:\t13.719375\n",
      "total samples_es:\t23471\n",
      "total hours spanish:\t4.8897916666666665\n",
      "total hours combined:\t18.609166666666667\n"
     ]
    }
   ],
   "source": [
    "print(f\"total samples_en:\\t{len(features_en)}\")\n",
    "print(f\"total hours english:\\t{len(features_en) * 0.75 / 3600}\")\n",
    "print(f\"total samples_es:\\t{len(features_es)}\")\n",
    "print(f\"total hours spanish:\\t{len(features_es) * 0.75 / 3600}\")\n",
    "print(f\"total hours combined:\\t{(len(features_es) + len(features_en)) * 0.75/3600}\")\n"
   ]
  },
  {
   "cell_type": "code",
   "execution_count": 57,
   "metadata": {},
   "outputs": [],
   "source": [
    "train_en = features_en[:int(len(features_en) * 3 / 4)]\n",
    "train_es = features_es[:int(len(features_es) * 3 / 4)]\n",
    "test_en = features_en[int(len(features_en) * 3 / 4) + 1:]\n",
    "test_es = features_es[int(len(features_es) * 3 / 4) + 1:]\n"
   ]
  },
  {
   "cell_type": "code",
   "execution_count": 58,
   "metadata": {},
   "outputs": [
    {
     "name": "stdout",
     "output_type": "stream",
     "text": [
      "total training samples_en:\t49389\n",
      "total training hours english:\t10.289375\n",
      "total training samples_es:\t17603\n",
      "total training hours spanish:\t3.667291666666667\n",
      "total training hours combined:\t13.956666666666667\n"
     ]
    }
   ],
   "source": [
    "print(f\"total training samples_en:\\t{len(train_en)}\")\n",
    "print(f\"total training hours english:\\t{len(train_en) * 0.75 / 3600}\")\n",
    "print(f\"total training samples_es:\\t{len(train_es)}\")\n",
    "print(f\"total training hours spanish:\\t{len(train_es) * 0.75 / 3600}\")\n",
    "print(f\"total training hours combined:\\t{(len(train_es) + len(train_en)) * 0.75 /3600}\")\n"
   ]
  },
  {
   "cell_type": "code",
   "execution_count": 59,
   "metadata": {},
   "outputs": [
    {
     "name": "stdout",
     "output_type": "stream",
     "text": [
      "shape train english: (49389, 75, 39)\n",
      "shape train spanish: (17603, 75, 39)\n",
      "shape test english: (16463, 75, 39)\n",
      "shape test spanish: (5867, 75, 39)\n",
      "total testing samples_en:\t16463\n",
      "total testing hours english:\t3.4297916666666666\n",
      "total testing samples_es:\t5867\n",
      "total testing hours spanish:\t1.2222916666666668\n",
      "total testing hours combined:\t4.652083333333334\n"
     ]
    }
   ],
   "source": [
    "print(f\"shape train english: {np.shape(train_en)}\")\n",
    "print(f\"shape train spanish: {np.shape(train_es)}\")\n",
    "print(f\"shape test english: {np.shape(test_en)}\")\n",
    "print(f\"shape test spanish: {np.shape(test_es)}\")\n",
    "print(f\"total testing samples_en:\\t{len(test_en)}\")\n",
    "print(f\"total testing hours english:\\t{len(test_en) * 0.75 / 3600}\")\n",
    "print(f\"total testing samples_es:\\t{len(test_es)}\")\n",
    "print(f\"total testing hours spanish:\\t{len(test_es) * 0.75 / 3600}\")\n",
    "print(f\"total testing hours combined:\\t{(len(test_en) + len(test_es)) * 0.75/3600}\")\n"
   ]
  },
  {
   "cell_type": "code",
   "execution_count": 182,
   "metadata": {},
   "outputs": [],
   "source": [
    "#initiate gmm model \n",
    "#single model example\n",
    "model = gmm.GMM(n_clusters=[30,30]) #There are other parameters but for simplicity, an array of clusters will do\n",
    "\n"
   ]
  },
  {
   "cell_type": "code",
   "execution_count": 60,
   "metadata": {},
   "outputs": [],
   "source": [
    "gmm_models = [gmm.GMM(n_clusters=[50,50]), \\\n",
    "              gmm.GMM(n_clusters=[50,30]), \\\n",
    "              gmm.GMM(n_clusters=[30,30]), \\\n",
    "              gmm.GMM(n_clusters=[40,50]), \\\n",
    "              gmm.GMM(n_clusters=[40,40]), \\\n",
    "              gmm.GMM(n_clusters=[50,40]), \\\n",
    "              gmm.GMM(n_clusters=[30,40]), \\\n",
    "              gmm.GMM(n_clusters=[40,30])]\n"
   ]
  },
  {
   "cell_type": "code",
   "execution_count": null,
   "metadata": {},
   "outputs": [
    {
     "name": "stdout",
     "output_type": "stream",
     "text": [
      "50\n",
      "{0: {'english': 0.9, 'spanish': 0.0},\n",
      " 1: {'english': 0.34, 'spanish': 0.74},\n",
      " 2: {'english': 0.9, 'spanish': 0.18},\n",
      " 3: {'english': 0.94, 'spanish': 0.0},\n",
      " 4: {'english': 1.0, 'spanish': 0.0},\n",
      " 5: {'english': 0.96, 'spanish': 0.02},\n",
      " 6: {'english': 1.0, 'spanish': 0.0},\n",
      " 7: {'english': 0.62, 'spanish': 0.38}}\n",
      "50\n",
      "{0: {'english': 0.9, 'spanish': 0.0},\n",
      " 1: {'english': 0.34, 'spanish': 0.74},\n",
      " 2: {'english': 0.9, 'spanish': 0.18},\n",
      " 3: {'english': 0.94, 'spanish': 0.0},\n",
      " 4: {'english': 1.0, 'spanish': 0.0},\n",
      " 5: {'english': 0.96, 'spanish': 0.02},\n",
      " 6: {'english': 1.0, 'spanish': 0.0},\n",
      " 7: {'english': 0.62, 'spanish': 0.38}}\n",
      "50\n",
      "{0: {'english': 0.9, 'spanish': 0.0},\n",
      " 1: {'english': 0.34, 'spanish': 0.74},\n",
      " 2: {'english': 0.9, 'spanish': 0.18},\n",
      " 3: {'english': 0.94, 'spanish': 0.0},\n",
      " 4: {'english': 1.0, 'spanish': 0.0},\n",
      " 5: {'english': 0.96, 'spanish': 0.02},\n",
      " 6: {'english': 1.0, 'spanish': 0.0},\n",
      " 7: {'english': 0.62, 'spanish': 0.38}}\n",
      "50\n",
      "{0: {'english': 0.9, 'spanish': 0.0},\n",
      " 1: {'english': 0.34, 'spanish': 0.74},\n",
      " 2: {'english': 0.9, 'spanish': 0.18},\n",
      " 3: {'english': 0.94, 'spanish': 0.0},\n",
      " 4: {'english': 1.0, 'spanish': 0.0},\n",
      " 5: {'english': 0.96, 'spanish': 0.02},\n",
      " 6: {'english': 1.0, 'spanish': 0.0},\n",
      " 7: {'english': 0.62, 'spanish': 0.38}}\n",
      "50\n",
      "{0: {'english': 0.9, 'spanish': 0.0},\n",
      " 1: {'english': 0.34, 'spanish': 0.74},\n",
      " 2: {'english': 0.9, 'spanish': 0.18},\n",
      " 3: {'english': 0.94, 'spanish': 0.0},\n",
      " 4: {'english': 1.0, 'spanish': 0.0},\n",
      " 5: {'english': 0.96, 'spanish': 0.02},\n",
      " 6: {'english': 1.0, 'spanish': 0.0},\n",
      " 7: {'english': 0.62, 'spanish': 0.38}}\n",
      "50\n",
      "{0: {'english': 0.9, 'spanish': 0.0},\n",
      " 1: {'english': 0.34, 'spanish': 0.74},\n",
      " 2: {'english': 0.9, 'spanish': 0.18},\n",
      " 3: {'english': 0.94, 'spanish': 0.0},\n",
      " 4: {'english': 1.0, 'spanish': 0.0},\n",
      " 5: {'english': 0.96, 'spanish': 0.02},\n",
      " 6: {'english': 1.0, 'spanish': 0.0},\n",
      " 7: {'english': 0.62, 'spanish': 0.38}}\n"
     ]
    }
   ],
   "source": [
    "'''\n",
    "This is the part SageMaker is for\n",
    "to train below\n",
    "'''\n",
    "import pprint\n",
    "lang_to_id = {'english' : 0, 'spanish': 1}\n",
    "predictions = {n : [] for n in range(len(gmm_models))}\n",
    "for idx, gmm_model in enumerate(gmm_models):\n",
    "    gmm_model.train(train_en, lang_to_id['english'])\n",
    "    gmm_model.train(train_es, lang_to_id['spanish'])\n",
    "    predictions[idx] = {'english' : \\\n",
    "                       np.average(np.array(gmm_model.predict_all(test_en)) == lang_to_id['english']) , \\\n",
    "                       'spanish' : \\\n",
    "                       np.average(np.array(gmm_model.predict_all(test_es)) == lang_to_id['spanish'])}\n",
    "pprint.pprint(predictions)\n"
   ]
  },
  {
   "cell_type": "code",
   "execution_count": 72,
   "metadata": {
    "scrolled": true
   },
   "outputs": [
    {
     "name": "stdout",
     "output_type": "stream",
     "text": [
      "(16463, 75, 39)\n",
      "(5867, 75, 39)\n"
     ]
    }
   ],
   "source": [
    "print(np.shape(test_en))\n",
    "print(np.shape(test_es))"
   ]
  },
  {
   "cell_type": "code",
   "execution_count": 75,
   "metadata": {},
   "outputs": [
    {
     "name": "stdout",
     "output_type": "stream",
     "text": [
      "english: 0.8562230456174452\n",
      "spanish: 0.5629793761718084\n"
     ]
    }
   ],
   "source": [
    "for model in gmm_models[:1]:\n",
    "    print(f\"english: {np.average(np.array(model.predict_all(test_en)) == 0)}\")\n",
    "    print(f\"spanish: {np.average(np.array(model.predict_all(test_es)) == 1)}\")\n",
    "    "
   ]
  },
  {
   "cell_type": "code",
   "execution_count": null,
   "metadata": {},
   "outputs": [],
   "source": [
    "print(model.cluster_distributions)\n",
    "                                "
   ]
  },
  {
   "cell_type": "code",
   "execution_count": null,
   "metadata": {},
   "outputs": [],
   "source": []
  }
 ],
 "metadata": {
  "kernelspec": {
   "display_name": "conda_python3",
   "language": "python",
   "name": "conda_python3"
  },
  "language_info": {
   "codemirror_mode": {
    "name": "ipython",
    "version": 3
   },
   "file_extension": ".py",
   "mimetype": "text/x-python",
   "name": "python",
   "nbconvert_exporter": "python",
   "pygments_lexer": "ipython3",
   "version": "3.6.5"
  }
 },
 "nbformat": 4,
 "nbformat_minor": 2
}
