{
 "cells": [
  {
   "cell_type": "code",
   "execution_count": 5,
   "metadata": {},
   "outputs": [],
   "source": [
    "\n",
    "# Define IAM role\n",
    "import boto3\n",
    "import re\n",
    "import os\n",
    "import numpy as np\n",
    "import pandas as pd\n",
    "import importlib\n",
    "from sagemaker import get_execution_role\n",
    "import sagemaker as sage\n",
    "from time import gmtime, strftime\n",
    "import time\n",
    "\n",
    "sess                = sage.Session()\n",
    "role                = get_execution_role()\n",
    "bucket              = 'oosv-multilingual-bucket'\n",
    "TOTAL_FRAMES        = 75\n",
    "test_data_location  = None\n",
    "train_data_location = None"
   ]
  },
  {
   "cell_type": "code",
   "execution_count": 6,
   "metadata": {},
   "outputs": [],
   "source": [
    "# hyperparameters: n_clusters = 30, cov_type='full', iter = 100, TOTAL_FRAMES=75, languages=2\n",
    "data_location = f's3://{bucket}/data'\n",
    "hyper_params = {'n_clusters' : [10,10], 'iter' : 100}"
   ]
  },
  {
   "cell_type": "code",
   "execution_count": 7,
   "metadata": {},
   "outputs": [
    {
     "name": "stderr",
     "output_type": "stream",
     "text": [
      "INFO:sagemaker:Creating training-job with name: gmm-image-3-2018-10-10-22-32-36-609\n"
     ]
    },
    {
     "name": "stdout",
     "output_type": "stream",
     "text": [
      "2018-10-10 22:32:36 Starting - Starting the training job...\n",
      "Launching requested ML instances......\n",
      "Preparing the instances for training...\n",
      "2018-10-10 22:34:30 Downloading - Downloading input data............\n",
      "2018-10-10 22:36:22 Training - Downloading the training image..\n",
      "\u001b[31m/usr/local/lib/python3.6/site-packages/sklearn/externals/joblib/externals/cloudpickle/cloudpickle.py:47: DeprecationWarning: the imp module is deprecated in favour of importlib; see the module's documentation for alternative uses\n",
      "  import imp\u001b[0m\n",
      "\u001b[31mdebug : False\u001b[0m\n",
      "\u001b[31mdebug2: False\u001b[0m\n",
      "\u001b[31mException during training: 'utf-8' codec can't decode byte 0x93 in position 0: invalid start byte\u001b[0m\n",
      "\u001b[31mTraceback (most recent call last):\n",
      "  File \"/opt/program/train\", line 177, in <module>\n",
      "    data_x, data_y = get_data()\n",
      "  File \"/opt/program/train\", line 117, in get_data\n",
      "    os.path.join(train_data, language)\n",
      "  File \"/usr/local/lib/python3.6/site-packages/pandas/io/parsers.py\", line 678, in parser_f\u001b[0m\n",
      "\u001b[31mException during training: 'utf-8' codec can't decode byte 0x93 in position 0: invalid start byte\u001b[0m\n",
      "\u001b[31mTraceback (most recent call last):\n",
      "  File \"/opt/program/train\", line 177, in <module>\n",
      "    data_x, data_y = get_data()\n",
      "  File \"/opt/program/train\", line 117, in get_data\n",
      "    os.path.join(train_data, language)\n",
      "  File \"/usr/local/lib/python3.6/site-packages/pandas/io/parsers.py\", line 678, in parser_f\n",
      "    return _read(filepath_or_buffer, kwds)\n",
      "  File \"/usr/local/lib/python3.6/site-packages/pandas/io/parsers.py\", line 440, in _read\n",
      "    parser = TextFileReader(filepath_or_buffer, **kwds)\n",
      "  File \"/usr/local/lib/python3.6/site-packages/pandas/io/parsers.py\", line 787, in __init__\n",
      "    self._make_engine(self.engine)\n",
      "  File \"/usr/local/lib/python3.6/site-packages/pandas/io/parsers.py\", line 1014, in _make_engine\n",
      "    self._engine = CParserWrapper(self.f, **self.options)\n",
      "  File \"/usr/local/lib/python3.6/site-packages/pandas/io/parsers.py\", line 1708, in __init__\n",
      "    self._reader = parsers.TextReader(src, **kwds)\n",
      "  File \"pandas/_libs/parsers.pyx\", line 539, in pandas._libs.parsers.TextReader.__cinit__\n",
      "  File \"pandas/_libs/parsers.pyx\", line 767, in pandas._libs.parsers.TextReader._get_header\u001b[0m\n",
      "\u001b[31mUnicodeDecodeError: 'utf-8' codec can't decode byte 0x93 in position 0: invalid start byte\n",
      "\n",
      "    return _read(filepath_or_buffer, kwds)\n",
      "  File \"/usr/local/lib/python3.6/site-packages/pandas/io/parsers.py\", line 440, in _read\n",
      "    parser = TextFileReader(filepath_or_buffer, **kwds)\n",
      "  File \"/usr/local/lib/python3.6/site-packages/pandas/io/parsers.py\", line 787, in __init__\n",
      "    self._make_engine(self.engine)\n",
      "  File \"/usr/local/lib/python3.6/site-packages/pandas/io/parsers.py\", line 1014, in _make_engine\n",
      "    self._engine = CParserWrapper(self.f, **self.options)\n",
      "  File \"/usr/local/lib/python3.6/site-packages/pandas/io/parsers.py\", line 1708, in __init__\n",
      "    self._reader = parsers.TextReader(src, **kwds)\n",
      "  File \"pandas/_libs/parsers.pyx\", line 539, in pandas._libs.parsers.TextReader.__cinit__\n",
      "  File \"pandas/_libs/parsers.pyx\", line 767, in pandas._libs.parsers.TextReader._get_header\u001b[0m\n",
      "\u001b[31mUnicodeDecodeError: 'utf-8' codec can't decode byte 0x93 in position 0: invalid start byte\n",
      "\u001b[0m\n",
      "\n",
      "2018-10-10 22:36:53 Uploading - Uploading generated training model\n",
      "2018-10-10 22:36:58 Failed - Training job failed\n"
     ]
    },
    {
     "ename": "ValueError",
     "evalue": "Error training gmm-image-3-2018-10-10-22-32-36-609: Failed Reason: AlgorithmError: Exception during training: 'utf-8' codec can't decode byte 0x93 in position 0: invalid start byte\nTraceback (most recent call last):\n  File \"/opt/program/train\", line 177, in <module>\n    data_x, data_y = get_data()\n  File \"/opt/program/train\", line 117, in get_data\n    os.path.join(train_data, language)\n  File \"/usr/local/lib/python3.6/site-packages/pandas/io/parsers.py\", line 678, in parser_f\n    return _read(filepath_or_buffer, kwds)\n  File \"/usr/local/lib/python3.6/site-packages/pandas/io/parsers.py\", line 440, in _read\n    parser = TextFileReader(filepath_or_buffer, **kwds)\n  File \"/usr/local/lib/python3.6/site-packages/pandas/io/parsers.py\", line 787, in __init__\n    self._make_engine(self.engine)\n  File \"/usr/local/lib/python3.6/site-packages/pandas/io/parsers.py\", line 1014, in _make_engine\n    self._engine = CParserWrapper(self.f, **self.options)\n  File \"/usr/local/lib/python3.6/site-packages/pandas/io/parsers.py\", line 1708, in __init__\n    self._reader = parsers.TextReader(src, **kw",
     "output_type": "error",
     "traceback": [
      "\u001b[0;31m---------------------------------------------------------------------------\u001b[0m",
      "\u001b[0;31mValueError\u001b[0m                                Traceback (most recent call last)",
      "\u001b[0;32m<ipython-input-7-08a5f6ff1a35>\u001b[0m in \u001b[0;36m<module>\u001b[0;34m()\u001b[0m\n\u001b[1;32m     10\u001b[0m                        hyperparameters=hyper_params)\n\u001b[1;32m     11\u001b[0m \u001b[0;34m\u001b[0m\u001b[0m\n\u001b[0;32m---> 12\u001b[0;31m \u001b[0mgmm_model\u001b[0m\u001b[0;34m.\u001b[0m\u001b[0mfit\u001b[0m\u001b[0;34m(\u001b[0m\u001b[0mdata_location\u001b[0m\u001b[0;34m,\u001b[0m \u001b[0mwait\u001b[0m \u001b[0;34m=\u001b[0m \u001b[0;32mTrue\u001b[0m\u001b[0;34m)\u001b[0m\u001b[0;34m\u001b[0m\u001b[0m\n\u001b[0m\u001b[1;32m     13\u001b[0m \u001b[0mprint\u001b[0m\u001b[0;34m(\u001b[0m\u001b[0mgmm_model\u001b[0m\u001b[0;34m)\u001b[0m\u001b[0;34m\u001b[0m\u001b[0m\n",
      "\u001b[0;32m~/anaconda3/envs/python3/lib/python3.6/site-packages/sagemaker/estimator.py\u001b[0m in \u001b[0;36mfit\u001b[0;34m(self, inputs, wait, logs, job_name)\u001b[0m\n\u001b[1;32m    191\u001b[0m         \u001b[0mself\u001b[0m\u001b[0;34m.\u001b[0m\u001b[0mlatest_training_job\u001b[0m \u001b[0;34m=\u001b[0m \u001b[0m_TrainingJob\u001b[0m\u001b[0;34m.\u001b[0m\u001b[0mstart_new\u001b[0m\u001b[0;34m(\u001b[0m\u001b[0mself\u001b[0m\u001b[0;34m,\u001b[0m \u001b[0minputs\u001b[0m\u001b[0;34m)\u001b[0m\u001b[0;34m\u001b[0m\u001b[0m\n\u001b[1;32m    192\u001b[0m         \u001b[0;32mif\u001b[0m \u001b[0mwait\u001b[0m\u001b[0;34m:\u001b[0m\u001b[0;34m\u001b[0m\u001b[0m\n\u001b[0;32m--> 193\u001b[0;31m             \u001b[0mself\u001b[0m\u001b[0;34m.\u001b[0m\u001b[0mlatest_training_job\u001b[0m\u001b[0;34m.\u001b[0m\u001b[0mwait\u001b[0m\u001b[0;34m(\u001b[0m\u001b[0mlogs\u001b[0m\u001b[0;34m=\u001b[0m\u001b[0mlogs\u001b[0m\u001b[0;34m)\u001b[0m\u001b[0;34m\u001b[0m\u001b[0m\n\u001b[0m\u001b[1;32m    194\u001b[0m \u001b[0;34m\u001b[0m\u001b[0m\n\u001b[1;32m    195\u001b[0m     \u001b[0;34m@\u001b[0m\u001b[0mclassmethod\u001b[0m\u001b[0;34m\u001b[0m\u001b[0m\n",
      "\u001b[0;32m~/anaconda3/envs/python3/lib/python3.6/site-packages/sagemaker/estimator.py\u001b[0m in \u001b[0;36mwait\u001b[0;34m(self, logs)\u001b[0m\n\u001b[1;32m    421\u001b[0m     \u001b[0;32mdef\u001b[0m \u001b[0mwait\u001b[0m\u001b[0;34m(\u001b[0m\u001b[0mself\u001b[0m\u001b[0;34m,\u001b[0m \u001b[0mlogs\u001b[0m\u001b[0;34m=\u001b[0m\u001b[0;32mTrue\u001b[0m\u001b[0;34m)\u001b[0m\u001b[0;34m:\u001b[0m\u001b[0;34m\u001b[0m\u001b[0m\n\u001b[1;32m    422\u001b[0m         \u001b[0;32mif\u001b[0m \u001b[0mlogs\u001b[0m\u001b[0;34m:\u001b[0m\u001b[0;34m\u001b[0m\u001b[0m\n\u001b[0;32m--> 423\u001b[0;31m             \u001b[0mself\u001b[0m\u001b[0;34m.\u001b[0m\u001b[0msagemaker_session\u001b[0m\u001b[0;34m.\u001b[0m\u001b[0mlogs_for_job\u001b[0m\u001b[0;34m(\u001b[0m\u001b[0mself\u001b[0m\u001b[0;34m.\u001b[0m\u001b[0mjob_name\u001b[0m\u001b[0;34m,\u001b[0m \u001b[0mwait\u001b[0m\u001b[0;34m=\u001b[0m\u001b[0;32mTrue\u001b[0m\u001b[0;34m)\u001b[0m\u001b[0;34m\u001b[0m\u001b[0m\n\u001b[0m\u001b[1;32m    424\u001b[0m         \u001b[0;32melse\u001b[0m\u001b[0;34m:\u001b[0m\u001b[0;34m\u001b[0m\u001b[0m\n\u001b[1;32m    425\u001b[0m             \u001b[0mself\u001b[0m\u001b[0;34m.\u001b[0m\u001b[0msagemaker_session\u001b[0m\u001b[0;34m.\u001b[0m\u001b[0mwait_for_job\u001b[0m\u001b[0;34m(\u001b[0m\u001b[0mself\u001b[0m\u001b[0;34m.\u001b[0m\u001b[0mjob_name\u001b[0m\u001b[0;34m)\u001b[0m\u001b[0;34m\u001b[0m\u001b[0m\n",
      "\u001b[0;32m~/anaconda3/envs/python3/lib/python3.6/site-packages/sagemaker/session.py\u001b[0m in \u001b[0;36mlogs_for_job\u001b[0;34m(self, job_name, wait, poll)\u001b[0m\n\u001b[1;32m    907\u001b[0m \u001b[0;34m\u001b[0m\u001b[0m\n\u001b[1;32m    908\u001b[0m         \u001b[0;32mif\u001b[0m \u001b[0mwait\u001b[0m\u001b[0;34m:\u001b[0m\u001b[0;34m\u001b[0m\u001b[0m\n\u001b[0;32m--> 909\u001b[0;31m             \u001b[0mself\u001b[0m\u001b[0;34m.\u001b[0m\u001b[0m_check_job_status\u001b[0m\u001b[0;34m(\u001b[0m\u001b[0mjob_name\u001b[0m\u001b[0;34m,\u001b[0m \u001b[0mdescription\u001b[0m\u001b[0;34m,\u001b[0m \u001b[0;34m'TrainingJobStatus'\u001b[0m\u001b[0;34m)\u001b[0m\u001b[0;34m\u001b[0m\u001b[0m\n\u001b[0m\u001b[1;32m    910\u001b[0m             \u001b[0;32mif\u001b[0m \u001b[0mdot\u001b[0m\u001b[0;34m:\u001b[0m\u001b[0;34m\u001b[0m\u001b[0m\n\u001b[1;32m    911\u001b[0m                 \u001b[0mprint\u001b[0m\u001b[0;34m(\u001b[0m\u001b[0;34m)\u001b[0m\u001b[0;34m\u001b[0m\u001b[0m\n",
      "\u001b[0;32m~/anaconda3/envs/python3/lib/python3.6/site-packages/sagemaker/session.py\u001b[0m in \u001b[0;36m_check_job_status\u001b[0;34m(self, job, desc, status_key_name)\u001b[0m\n\u001b[1;32m    626\u001b[0m         \u001b[0;32mif\u001b[0m \u001b[0mstatus\u001b[0m \u001b[0;34m!=\u001b[0m \u001b[0;34m'Completed'\u001b[0m \u001b[0;32mand\u001b[0m \u001b[0mstatus\u001b[0m \u001b[0;34m!=\u001b[0m \u001b[0;34m'Stopped'\u001b[0m\u001b[0;34m:\u001b[0m\u001b[0;34m\u001b[0m\u001b[0m\n\u001b[1;32m    627\u001b[0m             \u001b[0mreason\u001b[0m \u001b[0;34m=\u001b[0m \u001b[0mdesc\u001b[0m\u001b[0;34m.\u001b[0m\u001b[0mget\u001b[0m\u001b[0;34m(\u001b[0m\u001b[0;34m'FailureReason'\u001b[0m\u001b[0;34m,\u001b[0m \u001b[0;34m'(No reason provided)'\u001b[0m\u001b[0;34m)\u001b[0m\u001b[0;34m\u001b[0m\u001b[0m\n\u001b[0;32m--> 628\u001b[0;31m             \u001b[0;32mraise\u001b[0m \u001b[0mValueError\u001b[0m\u001b[0;34m(\u001b[0m\u001b[0;34m'Error training {}: {} Reason: {}'\u001b[0m\u001b[0;34m.\u001b[0m\u001b[0mformat\u001b[0m\u001b[0;34m(\u001b[0m\u001b[0mjob\u001b[0m\u001b[0;34m,\u001b[0m \u001b[0mstatus\u001b[0m\u001b[0;34m,\u001b[0m \u001b[0mreason\u001b[0m\u001b[0;34m)\u001b[0m\u001b[0;34m)\u001b[0m\u001b[0;34m\u001b[0m\u001b[0m\n\u001b[0m\u001b[1;32m    629\u001b[0m \u001b[0;34m\u001b[0m\u001b[0m\n\u001b[1;32m    630\u001b[0m     \u001b[0;32mdef\u001b[0m \u001b[0mwait_for_endpoint\u001b[0m\u001b[0;34m(\u001b[0m\u001b[0mself\u001b[0m\u001b[0;34m,\u001b[0m \u001b[0mendpoint\u001b[0m\u001b[0;34m,\u001b[0m \u001b[0mpoll\u001b[0m\u001b[0;34m=\u001b[0m\u001b[0;36m5\u001b[0m\u001b[0;34m)\u001b[0m\u001b[0;34m:\u001b[0m\u001b[0;34m\u001b[0m\u001b[0m\n",
      "\u001b[0;31mValueError\u001b[0m: Error training gmm-image-3-2018-10-10-22-32-36-609: Failed Reason: AlgorithmError: Exception during training: 'utf-8' codec can't decode byte 0x93 in position 0: invalid start byte\nTraceback (most recent call last):\n  File \"/opt/program/train\", line 177, in <module>\n    data_x, data_y = get_data()\n  File \"/opt/program/train\", line 117, in get_data\n    os.path.join(train_data, language)\n  File \"/usr/local/lib/python3.6/site-packages/pandas/io/parsers.py\", line 678, in parser_f\n    return _read(filepath_or_buffer, kwds)\n  File \"/usr/local/lib/python3.6/site-packages/pandas/io/parsers.py\", line 440, in _read\n    parser = TextFileReader(filepath_or_buffer, **kwds)\n  File \"/usr/local/lib/python3.6/site-packages/pandas/io/parsers.py\", line 787, in __init__\n    self._make_engine(self.engine)\n  File \"/usr/local/lib/python3.6/site-packages/pandas/io/parsers.py\", line 1014, in _make_engine\n    self._engine = CParserWrapper(self.f, **self.options)\n  File \"/usr/local/lib/python3.6/site-packages/pandas/io/parsers.py\", line 1708, in __init__\n    self._reader = parsers.TextReader(src, **kw"
     ]
    }
   ],
   "source": [
    "account = sess.boto_session.client('sts').get_caller_identity()['Account']\n",
    "region = sess.boto_session.region_name\n",
    "image = '{}.dkr.ecr.{}.amazonaws.com/gmm-image-3:latest'.format(account, region)\n",
    " \n",
    "gmm_model = sage.estimator.Estimator(image,\n",
    "                       role, 1, 'ml.c4.4xlarge',\n",
    "                       train_volume_size=50,\n",
    "                       output_path=\"s3://{}/output\".format(bucket),\n",
    "                       sagemaker_session=sess,\n",
    "                       hyperparameters=hyper_params)\n",
    "\n",
    "gmm_model.fit(data_location, wait = True)\n",
    "print(gmm_model)"
   ]
  },
  {
   "cell_type": "code",
   "execution_count": 31,
   "metadata": {},
   "outputs": [
    {
     "data": {
      "text/plain": [
       "\"\\nSaved clusters, but not performance tests done\\n            {'n_clusters' : [60,60]},             {'n_clusters' : [50,60]},             {'n_clusters' : [40,60]},             {'n_clusters' : [30,60]},             {'n_clusters' : [50,50]},             {'n_clusters' : [40,50]}, \""
      ]
     },
     "execution_count": 31,
     "metadata": {},
     "output_type": "execute_result"
    }
   ],
   "source": [
    "import time\n",
    "variants = [{'n_clusters' : [30,50]}, \\\n",
    "            {'n_clusters' : [40,40]}, \\\n",
    "            {'n_clusters' : [30,40]}, \\\n",
    "            {'n_clusters' : [30,30]}, \\\n",
    "            {'n_clusters' : [60,50]}, \\\n",
    "            {'n_clusters' : [60,40]}, \\\n",
    "            {'n_clusters' : [60,30]}, \\\n",
    "            {'n_clusters' : [50,40]}, \\\n",
    "            {'n_clusters' : [50,30]}, \\\n",
    "            {'n_clusters' : [40,40]}]\n",
    "'''\n",
    "Saved clusters, but not performance tests done\n",
    "            {'n_clusters' : [60,60]}, \\\n",
    "            {'n_clusters' : [50,60]}, \\\n",
    "            {'n_clusters' : [40,60]}, \\\n",
    "            {'n_clusters' : [30,60]}, \\\n",
    "            {'n_clusters' : [50,50]}, \\\n",
    "            {'n_clusters' : [40,50]}, \\\n",
    "'''"
   ]
  },
  {
   "cell_type": "code",
   "execution_count": null,
   "metadata": {},
   "outputs": [
    {
     "name": "stderr",
     "output_type": "stream",
     "text": [
      "INFO:sagemaker:Creating training-job with name: gmm-image-1-2018-09-27-18-55-05-299\n",
      "INFO:sagemaker:Creating training-job with name: gmm-image-1-2018-09-27-18-55-05-484\n",
      "INFO:sagemaker:Creating training-job with name: gmm-image-1-2018-09-27-18-55-08-524\n",
      "INFO:sagemaker:Creating training-job with name: gmm-image-1-2018-09-27-18-55-10-857\n"
     ]
    }
   ],
   "source": [
    "for count, variant in enumerate(variants, 1):\n",
    "    gmm_model = sage.estimator.Estimator(image,\n",
    "                       role, 1, 'ml.c4.4xlarge',\n",
    "                       train_volume_size=50,\n",
    "                       output_path=\"s3://{}/output\".format(bucket),\n",
    "                       sagemaker_session=sess,\n",
    "                       hyperparameters=variant)\n",
    "    gmm_model.fit(data_location, wait = False)\n",
    "    if count % 4 == 0:        \n",
    "        time.sleep(9 * 60 * 60) #sleep for 9 hours before starting more jobs\n",
    "        # I am so sorry for how much compute power this will consume\n"
   ]
  },
  {
   "cell_type": "code",
   "execution_count": 78,
   "metadata": {},
   "outputs": [],
   "source": [
    "client = boto3.client('sagemaker') "
   ]
  },
  {
   "cell_type": "code",
   "execution_count": 79,
   "metadata": {},
   "outputs": [],
   "source": [
    "image = '{}.dkr.ecr.{}.amazonaws.com/gmm-image-2:latest'.format(account, region)\n",
    "some_model = 'gmm-image-1-2018-09-27-18-55-05-299'\n",
    "folder = 'output'\n",
    "model_bucket = f's3://{bucket}/{folder}/{some_model}/output/model.tar.gz'\n",
    "container_des = {\n",
    "        'Image': image,\n",
    "        'ModelDataUrl': model_bucket\n",
    "        } "
   ]
  },
  {
   "cell_type": "code",
   "execution_count": 80,
   "metadata": {},
   "outputs": [],
   "source": [
    "model = client.create_model(ModelName = 'oosv-demo-gmm', \n",
    "                            PrimaryContainer=container_des,\n",
    "                            ExecutionRoleArn=role)"
   ]
  },
  {
   "cell_type": "code",
   "execution_count": 81,
   "metadata": {},
   "outputs": [
    {
     "name": "stdout",
     "output_type": "stream",
     "text": [
      "{'EndpointConfigArn': 'arn:aws:sagemaker:us-west-2:367698673629:endpoint-config/oosv-demo-config', 'ResponseMetadata': {'RequestId': '2c203ca5-b181-42be-867c-c4f3f7e6c3f3', 'HTTPStatusCode': 200, 'HTTPHeaders': {'x-amzn-requestid': '2c203ca5-b181-42be-867c-c4f3f7e6c3f3', 'content-type': 'application/x-amz-json-1.1', 'content-length': '97', 'date': 'Fri, 28 Sep 2018 18:24:24 GMT'}, 'RetryAttempts': 0}}\n"
     ]
    }
   ],
   "source": [
    "response = client.create_endpoint_config(\n",
    "    EndpointConfigName='oosv-demo-config',\n",
    "    ProductionVariants=[\n",
    "        {\n",
    "            'VariantName': 'gmm1',\n",
    "            'ModelName': 'oosv-demo-gmm',\n",
    "            'InitialInstanceCount': 1,\n",
    "            'InstanceType': 'ml.t2.medium',\n",
    "        }\n",
    "    ]\n",
    ")\n",
    "print(response)"
   ]
  },
  {
   "cell_type": "code",
   "execution_count": 82,
   "metadata": {},
   "outputs": [
    {
     "name": "stdout",
     "output_type": "stream",
     "text": [
      "{'EndpointArn': 'arn:aws:sagemaker:us-west-2:367698673629:endpoint/oosv-demo-endpoint', 'ResponseMetadata': {'RequestId': '1b496d93-387b-4061-b896-fe4161125b9d', 'HTTPStatusCode': 200, 'HTTPHeaders': {'x-amzn-requestid': '1b496d93-387b-4061-b896-fe4161125b9d', 'content-type': 'application/x-amz-json-1.1', 'content-length': '86', 'date': 'Fri, 28 Sep 2018 18:24:30 GMT'}, 'RetryAttempts': 0}}\n"
     ]
    }
   ],
   "source": [
    "endpoint = client.create_endpoint(EndpointName='oosv-demo-endpoint', EndpointConfigName='oosv-demo-config')\n",
    "print(endpoint)"
   ]
  },
  {
   "cell_type": "code",
   "execution_count": 86,
   "metadata": {},
   "outputs": [
    {
     "data": {
      "text/plain": [
       "{'EndpointName': 'oosv-demo-endpoint',\n",
       " 'EndpointArn': 'arn:aws:sagemaker:us-west-2:367698673629:endpoint/oosv-demo-endpoint',\n",
       " 'EndpointConfigName': 'oosv-demo-config',\n",
       " 'EndpointStatus': 'Creating',\n",
       " 'CreationTime': datetime.datetime(2018, 9, 28, 18, 24, 30, 249000, tzinfo=tzlocal()),\n",
       " 'LastModifiedTime': datetime.datetime(2018, 9, 28, 18, 24, 30, 249000, tzinfo=tzlocal()),\n",
       " 'ResponseMetadata': {'RequestId': 'c131574a-2138-4095-9b08-329be6f43682',\n",
       "  'HTTPStatusCode': 200,\n",
       "  'HTTPHeaders': {'x-amzn-requestid': 'c131574a-2138-4095-9b08-329be6f43682',\n",
       "   'content-type': 'application/x-amz-json-1.1',\n",
       "   'content-length': '258',\n",
       "   'date': 'Fri, 28 Sep 2018 18:29:06 GMT'},\n",
       "  'RetryAttempts': 0}}"
      ]
     },
     "execution_count": 86,
     "metadata": {},
     "output_type": "execute_result"
    }
   ],
   "source": [
    "client.describe_endpoint(EndpointName = 'oosv-demo-endpoint')"
   ]
  },
  {
   "cell_type": "code",
   "execution_count": 77,
   "metadata": {},
   "outputs": [
    {
     "name": "stdout",
     "output_type": "stream",
     "text": [
      "{'ResponseMetadata': {'RequestId': 'ad059b43-3334-4d46-9a58-5b36f67eef9f', 'HTTPStatusCode': 200, 'HTTPHeaders': {'x-amzn-requestid': 'ad059b43-3334-4d46-9a58-5b36f67eef9f', 'content-type': 'application/x-amz-json-1.1', 'content-length': '0', 'date': 'Fri, 28 Sep 2018 18:24:07 GMT'}, 'RetryAttempts': 0}}\n",
      "{'ResponseMetadata': {'RequestId': 'e5614a89-7da5-4595-abdd-5bd29c92fdcd', 'HTTPStatusCode': 200, 'HTTPHeaders': {'x-amzn-requestid': 'e5614a89-7da5-4595-abdd-5bd29c92fdcd', 'content-type': 'application/x-amz-json-1.1', 'content-length': '0', 'date': 'Fri, 28 Sep 2018 18:24:07 GMT'}, 'RetryAttempts': 0}}\n",
      "{'ResponseMetadata': {'RequestId': '6ee9febd-881e-433f-8311-4bb574189f85', 'HTTPStatusCode': 200, 'HTTPHeaders': {'x-amzn-requestid': '6ee9febd-881e-433f-8311-4bb574189f85', 'content-type': 'application/x-amz-json-1.1', 'content-length': '0', 'date': 'Fri, 28 Sep 2018 18:24:07 GMT'}, 'RetryAttempts': 0}}\n"
     ]
    }
   ],
   "source": [
    "# clean up!!!!!\n",
    "del_config = client.delete_endpoint_config(EndpointConfigName = 'oosv-demo-config')\n",
    "del_ndpnt = client.delete_endpoint(EndpointName = 'oosv-demo-endpoint')\n",
    "del_cl = client.delete_model(ModelName = 'oosv-demo-gmm')\n",
    "print(del_config)\n",
    "print(del_ndpnt)\n",
    "print(del_cl)"
   ]
  },
  {
   "cell_type": "code",
   "execution_count": 110,
   "metadata": {},
   "outputs": [
    {
     "name": "stdout",
     "output_type": "stream",
     "text": [
      "gmm-image-1-2018-09-27-18-55-05-299\n",
      "oosv-multilingual-bucket\n"
     ]
    }
   ],
   "source": [
    "from extractor import extractor\n",
    "import tarfile\n",
    "import pickle\n",
    "import boto3\n",
    "import pickle\n",
    "import numpy as np\n",
    "\n",
    "saved_model = 'gmm-image-1-2018-09-27-18-55-05-299'\n",
    "bucket = 'oosv-multilingual-bucket'\n",
    "\n",
    "s3 = boto3.resource('s3')\n",
    "\n",
    "def get_wav(file_name, bucket):\n",
    "    file = '/tmp/wav/' + file_name\n",
    "    s3.Bucket(bucket).download_file('data/wav/' + file_name, file)\n",
    "    return file\n",
    "def get_model(bucket):\n",
    "    #model_bucket\n",
    "    model = '/tmp/model.tar.gz'\n",
    "    s3.Bucket(bucket).download_file(f'output/{some_model}/output/model.tar.gz', model)\n",
    "    return model\n",
    "\n",
    "print(some_model)\n",
    "print(bucket)"
   ]
  },
  {
   "cell_type": "code",
   "execution_count": 109,
   "metadata": {},
   "outputs": [
    {
     "name": "stderr",
     "output_type": "stream",
     "text": [
      "WARNING:root:frame length (1103) is greater than FFT size (512), frame will be truncated. Increase NFFT to avoid.\n"
     ]
    },
    {
     "name": "stdout",
     "output_type": "stream",
     "text": [
      "(3, 75, 13)\n",
      "(75, 39)\n",
      "['.git', 'container_gmm', 'Training DNN.ipynb', 'Untitled.ipynb', 'gmm_es', 'gmm_clust-[30, 50].plk', 'extractor', 'gmm_sage_maker_prototype.ipynb', 'container_dnn', '.ipynb_checkpoints', '.gitignore', 'prototype_notebook.ipynb', 'accuracy.json', 'python_speech_features', 'gmm_prototype.ipynb', 'README.md', 'gmm_en', 'models', 'Training GMM.ipynb']\n"
     ]
    },
    {
     "name": "stderr",
     "output_type": "stream",
     "text": [
      "/home/ec2-user/anaconda3/envs/python3/lib/python3.6/site-packages/sklearn/base.py:311: UserWarning: Trying to unpickle estimator GaussianMixture from version 0.20.0 when using version 0.19.2. This might lead to breaking code or invalid results. Use at your own risk.\n",
      "  UserWarning)\n"
     ]
    },
    {
     "data": {
      "text/plain": [
       "'english'"
      ]
     },
     "execution_count": 109,
     "metadata": {},
     "output_type": "execute_result"
    }
   ],
   "source": [
    "file_name = 'demo_en.wav'\n",
    "wav = get_wav(file_name, bucket)\n",
    "features = extractor.get_features(wav)\n",
    "print(np.shape(features))\n",
    "features = np.swapaxes(features, 0, 2)\n",
    "features = features.reshape((75, 39))\n",
    "print(np.shape(features))\n",
    "model = get_model(bucket)\n",
    "tf = tarfile.open(model)\n",
    "tf.extractall()\n",
    "tf.close()\n",
    "print(os.listdir())\n",
    "lang = {0 : 'english', 1 : 'spanish'}\n",
    "with open('gmm_clust-[30, 50].plk', 'rb') as file:\n",
    "    model = pickle.load(file)\n",
    "lang[model.predict(features)]"
   ]
  },
  {
   "cell_type": "code",
   "execution_count": 105,
   "metadata": {},
   "outputs": [
    {
     "name": "stdout",
     "output_type": "stream",
     "text": [
      "['.git', 'container_gmm', 'Training DNN.ipynb', 'Untitled.ipynb', 'gmm_es', 'gmm_clust-[30, 50].plk', 'extractor', 'gmm_sage_maker_prototype.ipynb', 'container_dnn', '.ipynb_checkpoints', '.gitignore', 'prototype_notebook.ipynb', 'accuracy.json', 'python_speech_features', 'gmm_prototype.ipynb', 'README.md', 'gmm_en', 'models', 'Training GMM.ipynb']\n"
     ]
    }
   ],
   "source": [
    "file_name = 'demo_en.wav'\n",
    "wav = get_wav(file_name, bucket)\n",
    "features = extractor.get_features(wav)\n",
    "print(np.shape(features))\n",
    "features = np.swapaxes(features, 0, 2)\n",
    "features = features.reshape((75, 39))\n",
    "print(np.shape(features))\n",
    "model = get_model(bucket)\n",
    "tf = tarfile.open(model)\n",
    "tf.extractall()\n",
    "tf.close()\n",
    "print(os.listdir())\n",
    "lang = {0 : 'english', 1 : 'spanish'}\n",
    "with open('gmm_clust-[30, 50].plk', 'rb') as file:\n",
    "    model = pickle.load(file)\n",
    "lang[model.predict(features)]"
   ]
  }
 ],
 "metadata": {
  "kernelspec": {
   "display_name": "conda_python3",
   "language": "python",
   "name": "conda_python3"
  },
  "language_info": {
   "codemirror_mode": {
    "name": "ipython",
    "version": 3
   },
   "file_extension": ".py",
   "mimetype": "text/x-python",
   "name": "python",
   "nbconvert_exporter": "python",
   "pygments_lexer": "ipython3",
   "version": "3.6.5"
  }
 },
 "nbformat": 4,
 "nbformat_minor": 2
}
