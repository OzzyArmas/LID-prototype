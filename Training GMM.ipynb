{
 "cells": [
  {
   "cell_type": "code",
   "execution_count": 1,
   "metadata": {},
   "outputs": [],
   "source": [
    "\n",
    "# Define IAM role\n",
    "import boto3\n",
    "import re\n",
    "\n",
    "import os\n",
    "import numpy as np\n",
    "import pandas as pd\n",
    "from sagemaker import get_execution_role\n",
    "\n",
    "role = get_execution_role()\n",
    "\n",
    "import sagemaker as sage\n",
    "from time import gmtime, strftime\n",
    "\n",
    "sess = sage.Session()\n",
    "bucket = 'oosv-multilingual-bucket'\n",
    "snippet_length = 75\n",
    "test_data_location = None\n",
    "train_data_location = None"
   ]
  },
  {
   "cell_type": "code",
   "execution_count": 39,
   "metadata": {},
   "outputs": [],
   "source": [
    "def get_data(file_name, bucket):\n",
    "    prefix = '/tmp/data/'\n",
    "    s3 = boto3.resource('s3')\n",
    "    s3.Bucket(bucket).download_file('data/' + file_name, prefix + file_name)\n",
    "    df = pd.read_csv(prefix + file_name)\n",
    "    os.remove(prefix + file_name)\n",
    "    return df.as_matrix()"
   ]
  },
  {
   "cell_type": "code",
   "execution_count": null,
   "metadata": {},
   "outputs": [],
   "source": [
    "data_en = get_data('english.csv', bucket)\n",
    "data_es = get_data('spanish.csv', bucket)\n",
    "data_en = data_en[(len(data_en) % snippet_length):]\n",
    "data_es = data_es[(len(data_es) % snippet_length):]"
   ]
  },
  {
   "cell_type": "code",
   "execution_count": null,
   "metadata": {},
   "outputs": [],
   "source": [
    "dist_en = int(len(data_en) * 3 / 4) - int(len(data_en) * 3 / 4) % snippet_length\n",
    "dist_es = int(len(data_es) * 3 / 4) - int(len(data_es) * 3 / 4) % snippet_length\n",
    "print(dist_en)\n",
    "print(dist_es)"
   ]
  },
  {
   "cell_type": "code",
   "execution_count": null,
   "metadata": {},
   "outputs": [],
   "source": [
    "train_en = data_en[:dist_en]\n",
    "train_es = data_es[:dist_es]\n",
    "test_en = data_en[dist_en:]\n",
    "test_es = data_es[dist_es:]\n",
    "print(len(train_en) % snippet_length)\n",
    "print(len(train_es) % snippet_length)\n",
    "print(len(test_en) % snippet_length)\n",
    "print(len(test_es) % snippet_length)"
   ]
  },
  {
   "cell_type": "code",
   "execution_count": null,
   "metadata": {},
   "outputs": [],
   "source": [
    "train_dir = '/tmp/data/train'\n",
    "test_dir = '/tmp/data/test'\n",
    "pd.DataFrame(train_en).to_csv(train_dir + '/english.csv', index=False)\n",
    "pd.DataFrame(train_es).to_csv(train_dir + '/spanish.csv', index=False)\n",
    "pd.DataFrame(train_en).to_csv(test_dir  + '/english.csv', index=False)\n",
    "pd.DataFrame(train_es).to_csv(test_dir  + '/spanish.csv', index=False)"
   ]
  },
  {
   "cell_type": "code",
   "execution_count": null,
   "metadata": {},
   "outputs": [],
   "source": [
    "train_key = 'data/train'\n",
    "test_key = 'data/test'"
   ]
  },
  {
   "cell_type": "code",
   "execution_count": null,
   "metadata": {},
   "outputs": [],
   "source": [
    "train_data_location = sess.upload_data(train_dir, bucket=bucket, key_prefix=train_key)\n",
    "test_data_location = sess.upload_data(test_dir, bucket=bucket, key_prefix=test_key)\n",
    "#s3://{bucker}/{train_key}"
   ]
  },
  {
   "cell_type": "code",
   "execution_count": 23,
   "metadata": {},
   "outputs": [],
   "source": [
    "# hyperparameters: n_clusters = 30, cov_type='full', iter = 100, snippet_length=75, languages=2\n",
    "data_location = f's3://{bucket}/data'\n",
    "hyper_params = {'n_clusters' : [10,10], 'iter' : 100}"
   ]
  },
  {
   "cell_type": "code",
   "execution_count": 24,
   "metadata": {},
   "outputs": [
    {
     "name": "stderr",
     "output_type": "stream",
     "text": [
      "INFO:sagemaker:Creating training-job with name: gmm-image-3-2018-10-04-16-23-57-971\n"
     ]
    },
    {
     "name": "stdout",
     "output_type": "stream",
     "text": [
      "2018-10-04 16:23:58 Starting - Starting the training job...\n",
      "Launching requested ML instances...\n",
      "Preparing the instances for training.........\n",
      "2018-10-04 16:26:00 Downloading - Downloading input data.........\n",
      "2018-10-04 16:27:52 Training - Downloading the training image...\n",
      "Training image download completed. Training in progress.\n",
      "\u001b[31m/usr/local/lib/python3.6/site-packages/sklearn/externals/joblib/externals/cloudpickle/cloudpickle.py:47: DeprecationWarning: the imp module is deprecated in favour of importlib; see the module's documentation for alternative uses\n",
      "  import imp\u001b[0m\n",
      "\u001b[31mdebug : False\u001b[0m\n",
      "\u001b[31mdebug2: False\u001b[0m\n",
      "\u001b[31m/opt/program/train:117: FutureWarning: Method .as_matrix will be removed in a future version. Use .values instead.\n",
      "  os.path.join(train_data, language)\u001b[0m\n",
      "\u001b[31m[SUCCESS] data parsed\u001b[0m\n",
      "\u001b[31m[10, 10]\u001b[0m\n",
      "\u001b[31m[SUCCESS] model created\u001b[0m\n",
      "\u001b[31m[SUCCESS] model trained\u001b[0m\n",
      "\u001b[31m[SUCCESS] checkpoint saved\u001b[0m\n",
      "\u001b[31m/opt/program/train:66: FutureWarning: Method .as_matrix will be removed in a future version. Use .values instead.\n",
      "  os.path.join(test_data, language)\u001b[0m\n",
      "\u001b[31m[SUCCESS] acc: {'english': 0.7996314968920205, 'spanish': 0.7570300516957337}\u001b[0m\n",
      "\u001b[31m[SUCCESS] model saved\u001b[0m\n",
      "\n",
      "2018-10-04 17:41:16 Uploading - Uploading generated training model\n",
      "2018-10-04 17:41:22 Completed - Training job completed\n",
      "Billable seconds: 4522\n",
      "<sagemaker.estimator.Estimator object at 0x7fb53fd68208>\n"
     ]
    }
   ],
   "source": [
    "account = sess.boto_session.client('sts').get_caller_identity()['Account']\n",
    "region = sess.boto_session.region_name\n",
    "image = '{}.dkr.ecr.{}.amazonaws.com/gmm-image-3:latest'.format(account, region)\n",
    " \n",
    "gmm_model = sage.estimator.Estimator(image,\n",
    "                       role, 1, 'ml.c4.4xlarge',\n",
    "                       train_volume_size=50,\n",
    "                       output_path=\"s3://{}/output\".format(bucket),\n",
    "                       sagemaker_session=sess,\n",
    "                       hyperparameters=hyper_params)\n",
    "\n",
    "gmm_model.fit(data_location, wait = True)\n",
    "print(gmm_model)"
   ]
  },
  {
   "cell_type": "code",
   "execution_count": 31,
   "metadata": {},
   "outputs": [
    {
     "data": {
      "text/plain": [
       "\"\\nSaved clusters, but not performance tests done\\n            {'n_clusters' : [60,60]},             {'n_clusters' : [50,60]},             {'n_clusters' : [40,60]},             {'n_clusters' : [30,60]},             {'n_clusters' : [50,50]},             {'n_clusters' : [40,50]}, \""
      ]
     },
     "execution_count": 31,
     "metadata": {},
     "output_type": "execute_result"
    }
   ],
   "source": [
    "import time\n",
    "variants = [{'n_clusters' : [30,50]}, \\\n",
    "            {'n_clusters' : [40,40]}, \\\n",
    "            {'n_clusters' : [30,40]}, \\\n",
    "            {'n_clusters' : [30,30]}, \\\n",
    "            {'n_clusters' : [60,50]}, \\\n",
    "            {'n_clusters' : [60,40]}, \\\n",
    "            {'n_clusters' : [60,30]}, \\\n",
    "            {'n_clusters' : [50,40]}, \\\n",
    "            {'n_clusters' : [50,30]}, \\\n",
    "            {'n_clusters' : [40,40]}]\n",
    "'''\n",
    "Saved clusters, but not performance tests done\n",
    "            {'n_clusters' : [60,60]}, \\\n",
    "            {'n_clusters' : [50,60]}, \\\n",
    "            {'n_clusters' : [40,60]}, \\\n",
    "            {'n_clusters' : [30,60]}, \\\n",
    "            {'n_clusters' : [50,50]}, \\\n",
    "            {'n_clusters' : [40,50]}, \\\n",
    "'''"
   ]
  },
  {
   "cell_type": "code",
   "execution_count": null,
   "metadata": {},
   "outputs": [
    {
     "name": "stderr",
     "output_type": "stream",
     "text": [
      "INFO:sagemaker:Creating training-job with name: gmm-image-1-2018-09-27-18-55-05-299\n",
      "INFO:sagemaker:Creating training-job with name: gmm-image-1-2018-09-27-18-55-05-484\n",
      "INFO:sagemaker:Creating training-job with name: gmm-image-1-2018-09-27-18-55-08-524\n",
      "INFO:sagemaker:Creating training-job with name: gmm-image-1-2018-09-27-18-55-10-857\n"
     ]
    }
   ],
   "source": [
    "for count, variant in enumerate(variants, 1):\n",
    "    gmm_model = sage.estimator.Estimator(image,\n",
    "                       role, 1, 'ml.c4.4xlarge',\n",
    "                       train_volume_size=50,\n",
    "                       output_path=\"s3://{}/output\".format(bucket),\n",
    "                       sagemaker_session=sess,\n",
    "                       hyperparameters=variant)\n",
    "    gmm_model.fit(data_location, wait = False)\n",
    "    if count % 4 == 0:        \n",
    "        time.sleep(9 * 60 * 60) #sleep for 9 hours before starting more jobs\n",
    "        # I am so sorry for how much compute power this will consume\n"
   ]
  },
  {
   "cell_type": "code",
   "execution_count": 78,
   "metadata": {},
   "outputs": [],
   "source": [
    "client = boto3.client('sagemaker') "
   ]
  },
  {
   "cell_type": "code",
   "execution_count": 79,
   "metadata": {},
   "outputs": [],
   "source": [
    "image = '{}.dkr.ecr.{}.amazonaws.com/gmm-image-2:latest'.format(account, region)\n",
    "some_model = 'gmm-image-1-2018-09-27-18-55-05-299'\n",
    "folder = 'output'\n",
    "model_bucket = f's3://{bucket}/{folder}/{some_model}/output/model.tar.gz'\n",
    "container_des = {\n",
    "        'Image': image,\n",
    "        'ModelDataUrl': model_bucket\n",
    "        } "
   ]
  },
  {
   "cell_type": "code",
   "execution_count": 80,
   "metadata": {},
   "outputs": [],
   "source": [
    "model = client.create_model(ModelName = 'oosv-demo-gmm', \n",
    "                            PrimaryContainer=container_des,\n",
    "                            ExecutionRoleArn=role)"
   ]
  },
  {
   "cell_type": "code",
   "execution_count": 81,
   "metadata": {},
   "outputs": [
    {
     "name": "stdout",
     "output_type": "stream",
     "text": [
      "{'EndpointConfigArn': 'arn:aws:sagemaker:us-west-2:367698673629:endpoint-config/oosv-demo-config', 'ResponseMetadata': {'RequestId': '2c203ca5-b181-42be-867c-c4f3f7e6c3f3', 'HTTPStatusCode': 200, 'HTTPHeaders': {'x-amzn-requestid': '2c203ca5-b181-42be-867c-c4f3f7e6c3f3', 'content-type': 'application/x-amz-json-1.1', 'content-length': '97', 'date': 'Fri, 28 Sep 2018 18:24:24 GMT'}, 'RetryAttempts': 0}}\n"
     ]
    }
   ],
   "source": [
    "response = client.create_endpoint_config(\n",
    "    EndpointConfigName='oosv-demo-config',\n",
    "    ProductionVariants=[\n",
    "        {\n",
    "            'VariantName': 'gmm1',\n",
    "            'ModelName': 'oosv-demo-gmm',\n",
    "            'InitialInstanceCount': 1,\n",
    "            'InstanceType': 'ml.t2.medium',\n",
    "        }\n",
    "    ]\n",
    ")\n",
    "print(response)"
   ]
  },
  {
   "cell_type": "code",
   "execution_count": 82,
   "metadata": {},
   "outputs": [
    {
     "name": "stdout",
     "output_type": "stream",
     "text": [
      "{'EndpointArn': 'arn:aws:sagemaker:us-west-2:367698673629:endpoint/oosv-demo-endpoint', 'ResponseMetadata': {'RequestId': '1b496d93-387b-4061-b896-fe4161125b9d', 'HTTPStatusCode': 200, 'HTTPHeaders': {'x-amzn-requestid': '1b496d93-387b-4061-b896-fe4161125b9d', 'content-type': 'application/x-amz-json-1.1', 'content-length': '86', 'date': 'Fri, 28 Sep 2018 18:24:30 GMT'}, 'RetryAttempts': 0}}\n"
     ]
    }
   ],
   "source": [
    "endpoint = client.create_endpoint(EndpointName='oosv-demo-endpoint', EndpointConfigName='oosv-demo-config')\n",
    "print(endpoint)"
   ]
  },
  {
   "cell_type": "code",
   "execution_count": 86,
   "metadata": {},
   "outputs": [
    {
     "data": {
      "text/plain": [
       "{'EndpointName': 'oosv-demo-endpoint',\n",
       " 'EndpointArn': 'arn:aws:sagemaker:us-west-2:367698673629:endpoint/oosv-demo-endpoint',\n",
       " 'EndpointConfigName': 'oosv-demo-config',\n",
       " 'EndpointStatus': 'Creating',\n",
       " 'CreationTime': datetime.datetime(2018, 9, 28, 18, 24, 30, 249000, tzinfo=tzlocal()),\n",
       " 'LastModifiedTime': datetime.datetime(2018, 9, 28, 18, 24, 30, 249000, tzinfo=tzlocal()),\n",
       " 'ResponseMetadata': {'RequestId': 'c131574a-2138-4095-9b08-329be6f43682',\n",
       "  'HTTPStatusCode': 200,\n",
       "  'HTTPHeaders': {'x-amzn-requestid': 'c131574a-2138-4095-9b08-329be6f43682',\n",
       "   'content-type': 'application/x-amz-json-1.1',\n",
       "   'content-length': '258',\n",
       "   'date': 'Fri, 28 Sep 2018 18:29:06 GMT'},\n",
       "  'RetryAttempts': 0}}"
      ]
     },
     "execution_count": 86,
     "metadata": {},
     "output_type": "execute_result"
    }
   ],
   "source": [
    "client.describe_endpoint(EndpointName = 'oosv-demo-endpoint')"
   ]
  },
  {
   "cell_type": "code",
   "execution_count": 77,
   "metadata": {},
   "outputs": [
    {
     "name": "stdout",
     "output_type": "stream",
     "text": [
      "{'ResponseMetadata': {'RequestId': 'ad059b43-3334-4d46-9a58-5b36f67eef9f', 'HTTPStatusCode': 200, 'HTTPHeaders': {'x-amzn-requestid': 'ad059b43-3334-4d46-9a58-5b36f67eef9f', 'content-type': 'application/x-amz-json-1.1', 'content-length': '0', 'date': 'Fri, 28 Sep 2018 18:24:07 GMT'}, 'RetryAttempts': 0}}\n",
      "{'ResponseMetadata': {'RequestId': 'e5614a89-7da5-4595-abdd-5bd29c92fdcd', 'HTTPStatusCode': 200, 'HTTPHeaders': {'x-amzn-requestid': 'e5614a89-7da5-4595-abdd-5bd29c92fdcd', 'content-type': 'application/x-amz-json-1.1', 'content-length': '0', 'date': 'Fri, 28 Sep 2018 18:24:07 GMT'}, 'RetryAttempts': 0}}\n",
      "{'ResponseMetadata': {'RequestId': '6ee9febd-881e-433f-8311-4bb574189f85', 'HTTPStatusCode': 200, 'HTTPHeaders': {'x-amzn-requestid': '6ee9febd-881e-433f-8311-4bb574189f85', 'content-type': 'application/x-amz-json-1.1', 'content-length': '0', 'date': 'Fri, 28 Sep 2018 18:24:07 GMT'}, 'RetryAttempts': 0}}\n"
     ]
    }
   ],
   "source": [
    "# clean up!!!!!\n",
    "del_config = client.delete_endpoint_config(EndpointConfigName = 'oosv-demo-config')\n",
    "del_ndpnt = client.delete_endpoint(EndpointName = 'oosv-demo-endpoint')\n",
    "del_cl = client.delete_model(ModelName = 'oosv-demo-gmm')\n",
    "print(del_config)\n",
    "print(del_ndpnt)\n",
    "print(del_cl)"
   ]
  },
  {
   "cell_type": "code",
   "execution_count": 110,
   "metadata": {},
   "outputs": [
    {
     "name": "stdout",
     "output_type": "stream",
     "text": [
      "gmm-image-1-2018-09-27-18-55-05-299\n",
      "oosv-multilingual-bucket\n"
     ]
    }
   ],
   "source": [
    "from extractor import extractor\n",
    "import tarfile\n",
    "import pickle\n",
    "import boto3\n",
    "import pickle\n",
    "import numpy as np\n",
    "\n",
    "saved_model = 'gmm-image-1-2018-09-27-18-55-05-299'\n",
    "bucket = 'oosv-multilingual-bucket'\n",
    "\n",
    "s3 = boto3.resource('s3')\n",
    "\n",
    "def get_wav(file_name, bucket):\n",
    "    file = '/tmp/wav/' + file_name\n",
    "    s3.Bucket(bucket).download_file('data/wav/' + file_name, file)\n",
    "    return file\n",
    "def get_model(bucket):\n",
    "    #model_bucket\n",
    "    model = '/tmp/model.tar.gz'\n",
    "    s3.Bucket(bucket).download_file(f'output/{some_model}/output/model.tar.gz', model)\n",
    "    return model\n",
    "\n",
    "print(some_model)\n",
    "print(bucket)"
   ]
  },
  {
   "cell_type": "code",
   "execution_count": 109,
   "metadata": {},
   "outputs": [
    {
     "name": "stderr",
     "output_type": "stream",
     "text": [
      "WARNING:root:frame length (1103) is greater than FFT size (512), frame will be truncated. Increase NFFT to avoid.\n"
     ]
    },
    {
     "name": "stdout",
     "output_type": "stream",
     "text": [
      "(3, 75, 13)\n",
      "(75, 39)\n",
      "['.git', 'container_gmm', 'Training DNN.ipynb', 'Untitled.ipynb', 'gmm_es', 'gmm_clust-[30, 50].plk', 'extractor', 'gmm_sage_maker_prototype.ipynb', 'container_dnn', '.ipynb_checkpoints', '.gitignore', 'prototype_notebook.ipynb', 'accuracy.json', 'python_speech_features', 'gmm_prototype.ipynb', 'README.md', 'gmm_en', 'models', 'Training GMM.ipynb']\n"
     ]
    },
    {
     "name": "stderr",
     "output_type": "stream",
     "text": [
      "/home/ec2-user/anaconda3/envs/python3/lib/python3.6/site-packages/sklearn/base.py:311: UserWarning: Trying to unpickle estimator GaussianMixture from version 0.20.0 when using version 0.19.2. This might lead to breaking code or invalid results. Use at your own risk.\n",
      "  UserWarning)\n"
     ]
    },
    {
     "data": {
      "text/plain": [
       "'english'"
      ]
     },
     "execution_count": 109,
     "metadata": {},
     "output_type": "execute_result"
    }
   ],
   "source": [
    "file_name = 'demo_en.wav'\n",
    "wav = get_wav(file_name, bucket)\n",
    "features = extractor.get_features(wav)\n",
    "print(np.shape(features))\n",
    "features = np.swapaxes(features, 0, 2)\n",
    "features = features.reshape((75, 39))\n",
    "print(np.shape(features))\n",
    "model = get_model(bucket)\n",
    "tf = tarfile.open(model)\n",
    "tf.extractall()\n",
    "tf.close()\n",
    "print(os.listdir())\n",
    "lang = {0 : 'english', 1 : 'spanish'}\n",
    "with open('gmm_clust-[30, 50].plk', 'rb') as file:\n",
    "    model = pickle.load(file)\n",
    "lang[model.predict(features)]"
   ]
  },
  {
   "cell_type": "code",
   "execution_count": 105,
   "metadata": {},
   "outputs": [
    {
     "name": "stdout",
     "output_type": "stream",
     "text": [
      "['.git', 'container_gmm', 'Training DNN.ipynb', 'Untitled.ipynb', 'gmm_es', 'gmm_clust-[30, 50].plk', 'extractor', 'gmm_sage_maker_prototype.ipynb', 'container_dnn', '.ipynb_checkpoints', '.gitignore', 'prototype_notebook.ipynb', 'accuracy.json', 'python_speech_features', 'gmm_prototype.ipynb', 'README.md', 'gmm_en', 'models', 'Training GMM.ipynb']\n"
     ]
    }
   ],
   "source": [
    "file_name = 'demo_en.wav'\n",
    "wav = get_wav(file_name, bucket)\n",
    "features = extractor.get_features(wav)\n",
    "print(np.shape(features))\n",
    "features = np.swapaxes(features, 0, 2)\n",
    "features = features.reshape((75, 39))\n",
    "print(np.shape(features))\n",
    "model = get_model(bucket)\n",
    "tf = tarfile.open(model)\n",
    "tf.extractall()\n",
    "tf.close()\n",
    "print(os.listdir())\n",
    "lang = {0 : 'english', 1 : 'spanish'}\n",
    "with open('gmm_clust-[30, 50].plk', 'rb') as file:\n",
    "    model = pickle.load(file)\n",
    "lang[model.predict(features)]"
   ]
  }
 ],
 "metadata": {
  "kernelspec": {
   "display_name": "conda_python3",
   "language": "python",
   "name": "conda_python3"
  },
  "language_info": {
   "codemirror_mode": {
    "name": "ipython",
    "version": 3
   },
   "file_extension": ".py",
   "mimetype": "text/x-python",
   "name": "python",
   "nbconvert_exporter": "python",
   "pygments_lexer": "ipython3",
   "version": "3.6.5"
  }
 },
 "nbformat": 4,
 "nbformat_minor": 2
}
