{
 "cells": [
  {
   "cell_type": "code",
   "execution_count": 1,
   "metadata": {},
   "outputs": [
    {
     "name": "stderr",
     "output_type": "stream",
     "text": [
      "/Users/oosv/miniconda3/lib/python3.6/site-packages/mkl_fft/_numpy_fft.py:331: FutureWarning: Using a non-tuple sequence for multidimensional indexing is deprecated; use `arr[tuple(seq)]` instead of `arr[seq]`. In the future this will be interpreted as an array index, `arr[np.array(seq)]`, which will result either in an error or a different result.\n",
      "  output = mkl_fft.rfft_numpy(a, n=n, axis=axis)\n"
     ]
    }
   ],
   "source": [
    "from extractor import extractor\n",
    "import numpy as np\n",
    "import os\n",
    "path_en = 'data/voxforge/english'\n",
    "file_list = os.listdir(path_en)\n",
    "'''\n",
    "extractor.time_offset chooses which part of the recording to begin saving\n",
    "extractor.snippet_length chooses the length of the recording snippet\n",
    "'''\n",
    "for f in range(len(file_list)):\n",
    "    file_list[f] = path_en + '/' + file_list[f]\n",
    "features_en = extractor.make_feature_set(file_list) \n"
   ]
  },
  {
   "cell_type": "code",
   "execution_count": 2,
   "metadata": {},
   "outputs": [
    {
     "name": "stderr",
     "output_type": "stream",
     "text": [
      "/Users/oosv/miniconda3/lib/python3.6/site-packages/mkl_fft/_numpy_fft.py:331: FutureWarning: Using a non-tuple sequence for multidimensional indexing is deprecated; use `arr[tuple(seq)]` instead of `arr[seq]`. In the future this will be interpreted as an array index, `arr[np.array(seq)]`, which will result either in an error or a different result.\n",
      "  output = mkl_fft.rfft_numpy(a, n=n, axis=axis)\n"
     ]
    }
   ],
   "source": [
    "path_es = 'data/voxforge/spanish'\n",
    "file_list = os.listdir(path_es)\n",
    "\n",
    "for f in range(len(file_list)):\n",
    "    file_list[f] = path_es + '/' + file_list[f]\n",
    "\n",
    "features_es = extractor.make_feature_set(file_list) \n"
   ]
  },
  {
   "cell_type": "code",
   "execution_count": 3,
   "metadata": {},
   "outputs": [],
   "source": [
    "import imp\n",
    "from models import gmm\n",
    "imp.reload(gmm)\n",
    "single_model = gmm.GMM()\n"
   ]
  },
  {
   "cell_type": "code",
   "execution_count": 4,
   "metadata": {},
   "outputs": [],
   "source": [
    "#only run if voxforge lines were used\n",
    "import numpy as np\n",
    "ready_es = single_model.adjust_data_to_model(features_es)\n",
    "ready_en = single_model.adjust_data_to_model(features_en)\n",
    "lang_to_id = {'english' : 0, 'spanish': 1}\n"
   ]
  },
  {
   "cell_type": "code",
   "execution_count": 5,
   "metadata": {},
   "outputs": [
    {
     "name": "stdout",
     "output_type": "stream",
     "text": [
      "(4939050, 39)\n",
      "(1760400, 39)\n"
     ]
    }
   ],
   "source": [
    "import pandas as pd\n",
    "en_shape = np.shape(ready_en)\n",
    "es_shape = np.shape(ready_es)\n",
    "ready_en = np.array(ready_en).reshape(en_shape[0] * en_shape[1], en_shape[2])\n",
    "ready_es = np.array(ready_es).reshape(es_shape[0] * es_shape[1], es_shape[2])\n",
    "print(np.shape(ready_en))\n",
    "print(np.shape(ready_es))\n"
   ]
  },
  {
   "cell_type": "code",
   "execution_count": 6,
   "metadata": {},
   "outputs": [
    {
     "name": "stdout",
     "output_type": "stream",
     "text": [
      "(4939050, 39)\n",
      "(1760400, 39)\n"
     ]
    }
   ],
   "source": [
    "print(np.shape(ready_en))\n",
    "print(np.shape(ready_es))\n",
    "df = pd.DataFrame(ready_en)\n",
    "df.to_csv(\"english_data.csv\", header = False, index = False)\n",
    "df = pd.DataFrame(ready_es)\n",
    "df.to_csv(\"spanish_data.csv\", header = False, index = False)"
   ]
  },
  {
   "cell_type": "code",
   "execution_count": 36,
   "metadata": {},
   "outputs": [
    {
     "name": "stdout",
     "output_type": "stream",
     "text": [
      "total samples_en:\t65854\n",
      "total hours english:\t823.175\n",
      "total samples_es:\t23472\n",
      "total hours spanish:\t293.4\n",
      "total hours combined:\t1116.575\n"
     ]
    }
   ],
   "source": [
    "print(f\"total samples_en:\\t{len(features_en)}\")\n",
    "print(f\"total hours english:\\t{len(features_en) * 0.75 / 60}\")\n",
    "print(f\"total samples_es:\\t{len(features_es)}\")\n",
    "print(f\"total hours spanish:\\t{len(features_es) * 0.75 / 60}\")\n",
    "print(f\"total hours combined:\\t{(len(features_es) + len(features_en)) * 0.75/60}\")\n"
   ]
  },
  {
   "cell_type": "code",
   "execution_count": 196,
   "metadata": {},
   "outputs": [],
   "source": [
    "train_en = ready_en[:int(len(ready_en) * 3 / 4)]\n",
    "train_es = ready_es[:int(len(ready_es) * 3 / 4)]\n",
    "test_en = ready_en[int(len(ready_en) * 3 / 4) + 1:]\n",
    "test_es = ready_es[int(len(ready_es) * 3 / 4) + 1:]\n"
   ]
  },
  {
   "cell_type": "code",
   "execution_count": 169,
   "metadata": {},
   "outputs": [
    {
     "name": "stdout",
     "output_type": "stream",
     "text": [
      "total training samples_en:\t49390\n",
      "total training hours english:\t10.289583333333333\n",
      "total training samples_es:\t17604\n",
      "total training hours spanish:\t3.6675\n",
      "total training hours combined:\t13.957083333333333\n"
     ]
    }
   ],
   "source": [
    "print(f\"total training samples_en:\\t{len(train_en)}\")\n",
    "print(f\"total training hours english:\\t{len(train_en) * 0.75 / 3600}\")\n",
    "print(f\"total training samples_es:\\t{len(train_es)}\")\n",
    "print(f\"total training hours spanish:\\t{len(train_es) * 0.75 / 3600}\")\n",
    "print(f\"total training hours combined:\\t{(len(train_es) + len(train_en)) * 0.75 /3600}\")\n"
   ]
  },
  {
   "cell_type": "code",
   "execution_count": 168,
   "metadata": {},
   "outputs": [
    {
     "name": "stdout",
     "output_type": "stream",
     "text": [
      "shape train english: (49390, 75, 39)\n",
      "shape train spanish: (17604, 75, 39)\n",
      "shape test english: (16463, 75, 39)\n",
      "shape test spanish: (5867, 75, 39)\n",
      "total testing samples_en:\t16463\n",
      "total testing hours english:\t3.4297916666666666\n",
      "total testing samples_es:\t5867\n",
      "total testing hours spanish:\t1.2222916666666668\n",
      "total testing hours combined:\t4.652083333333334\n"
     ]
    }
   ],
   "source": [
    "print(f\"shape train english: {np.shape(train_en)}\")\n",
    "print(f\"shape train spanish: {np.shape(train_es)}\")\n",
    "print(f\"shape test english: {np.shape(test_en)}\")\n",
    "print(f\"shape test spanish: {np.shape(test_es)}\")\n",
    "print(f\"total testing samples_en:\\t{len(test_en)}\")\n",
    "print(f\"total testing hours english:\\t{len(test_en) * 0.75 / 3600}\")\n",
    "print(f\"total testing samples_es:\\t{len(test_es)}\")\n",
    "print(f\"total testing hours spanish:\\t{len(test_es) * 0.75 / 3600}\")\n",
    "print(f\"total testing hours combined:\\t{(len(test_en) + len(test_es)) * 0.75/3600}\")\n"
   ]
  },
  {
   "cell_type": "code",
   "execution_count": 182,
   "metadata": {},
   "outputs": [],
   "source": [
    "#initiate gmm model \n",
    "#single model example\n",
    "model = gmm.GMM(n_clusters=[30,30]) #There are other parameters but for simplicity, an array of clusters will do\n",
    "\n"
   ]
  },
  {
   "cell_type": "code",
   "execution_count": 194,
   "metadata": {},
   "outputs": [],
   "source": [
    "gmm_models = [gmm.GMM(n_clusters=[50,50]), \\\n",
    "              gmm.GMM(n_clusters=[50,30]), \\\n",
    "              gmm.GMM(n_clusters=[30,30]), \\\n",
    "              gmm.GMM(n_clusters=[40,50]), \\\n",
    "              gmm.GMM(n_clusters=[40,40]), \\\n",
    "              gmm.GMM(n_clusters=[50,40]), \\\n",
    "              gmm.GMM(n_clusters=[30,40]), \\\n",
    "              gmm.GMM(n_clusters=[40,30])]\n"
   ]
  },
  {
   "cell_type": "code",
   "execution_count": 197,
   "metadata": {},
   "outputs": [
    {
     "name": "stdout",
     "output_type": "stream",
     "text": [
      "50\n",
      "{0: {'english': 0.42, 'spanish': 0.42},\n",
      " 1: {'english': 0.18, 'spanish': 0.8},\n",
      " 2: {'english': 0.34, 'spanish': 0.76},\n",
      " 3: {'english': 0.48, 'spanish': 0.3},\n",
      " 4: {'english': 0.34, 'spanish': 0.66},\n",
      " 5: {'english': 0.26, 'spanish': 0.74},\n",
      " 6: {'english': 0.46, 'spanish': 0.76},\n",
      " 7: {'english': 0.24, 'spanish': 0.68}}\n"
     ]
    }
   ],
   "source": [
    "import pprint\n",
    "predictions = {n : [] for n in range(len(gmm_models))}\n",
    "for idx, gmm_model in enumerate(gmm_models):\n",
    "    gmm_model.train(train_en[:1000], lang_to_id['english'])\n",
    "    gmm_model.train(train_es[:1000], lang_to_id['spanish'])\n",
    "    predictions[idx] = {'english' : \\\n",
    "                       np.average(np.array(gmm_model.predict_all(test_en[:50])) == lang_to_id['english']) , \\\n",
    "                       'spanish' : \\\n",
    "                       np.average(np.array(gmm_model.predict_all(test_es[:50])) == lang_to_id['spanish'])}\n",
    "print(len(gmm_model.predict_all(test_en[:50])))\n",
    "pprint.pprint(predictions)\n"
   ]
  },
  {
   "cell_type": "code",
   "execution_count": 203,
   "metadata": {},
   "outputs": [
    {
     "name": "stdout",
     "output_type": "stream",
     "text": [
      "english: 0.35\n",
      "spanish: 0.5233333333333333\n",
      "english: 0.19\n",
      "spanish: 0.8433333333333334\n",
      "english: 0.32666666666666666\n",
      "spanish: 0.7866666666666666\n",
      "english: 0.47333333333333333\n",
      "spanish: 0.5033333333333333\n",
      "english: 0.34\n",
      "spanish: 0.74\n",
      "english: 0.26666666666666666\n",
      "spanish: 0.8133333333333334\n",
      "english: 0.4166666666666667\n",
      "spanish: 0.7533333333333333\n",
      "english: 0.2733333333333333\n",
      "spanish: 0.8066666666666666\n"
     ]
    }
   ],
   "source": [
    "for model in gmm_models:\n",
    "    print(f\"english: {np.average(np.array(model.predict_all(test_en[:300])) == 0)}\")\n",
    "    print(f\"spanish: {np.average(np.array(model.predict_all(test_es[:300])) == 1)}\")\n",
    "    "
   ]
  },
  {
   "cell_type": "code",
   "execution_count": 199,
   "metadata": {},
   "outputs": [
    {
     "name": "stdout",
     "output_type": "stream",
     "text": [
      "[defaultdict(<class 'float'>, {47: 0.026786666666666667, 46: 0.029786666666666666, 34: 0.025706666666666666, 22: 0.024586666666666666, 10: 0.031613333333333334, 3: 0.011546666666666667, 23: 0.01988, 32: 0.03392, 33: 0.020626666666666668, 42: 0.01572, 6: 0.008546666666666666, 27: 0.010253333333333333, 13: 0.01196, 4: 0.007533333333333334, 11: 0.016533333333333334, 29: 0.015466666666666667, 41: 0.012626666666666666, 31: 0.009746666666666667, 7: 0.008986666666666667, 39: 0.02432, 43: 0.023186666666666668, 14: 0.012693333333333333, 25: 0.01324, 1: 0.014666666666666666, 48: 0.008146666666666667, 20: 0.0084, 12: 0.006573333333333333, 16: 0.008506666666666666, 35: 0.013293333333333334, 45: 0.012253333333333333, 30: 0.0051333333333333335, 18: 0.010786666666666667, 28: 0.008626666666666666, 49: 0.024386666666666668, 15: 0.006586666666666667, 37: 0.0082, 5: 0.0132, 9: 0.026413333333333334, 19: 0.023613333333333333, 40: 0.006613333333333333, 2: 0.016346666666666666, 26: 0.00944, 44: 0.009733333333333333, 21: 0.009986666666666666, 38: 0.0716, 24: 0.012613333333333334, 36: 0.007066666666666666, 8: 0.11478666666666666, 17: 0.05064, 0: 0.07712}), defaultdict(<class 'float'>, {14: 0.019706666666666667, 12: 0.02064, 43: 0.016826666666666667, 42: 0.019693333333333334, 16: 0.015026666666666667, 24: 0.015693333333333333, 34: 0.01688, 17: 0.028226666666666667, 35: 0.03442666666666667, 25: 0.029093333333333332, 20: 0.02232, 11: 0.029586666666666667, 40: 0.024, 27: 0.01404, 28: 0.04194666666666667, 2: 0.009093333333333333, 49: 0.014853333333333333, 29: 0.016573333333333332, 10: 0.015773333333333334, 32: 0.012906666666666667, 48: 0.01036, 47: 0.016586666666666666, 15: 0.025293333333333334, 26: 0.02476, 9: 0.015026666666666667, 44: 0.013546666666666667, 6: 0.012466666666666666, 36: 0.011706666666666667, 21: 0.02036, 22: 0.025133333333333334, 4: 0.006706666666666666, 45: 0.017946666666666666, 18: 0.02564, 30: 0.024866666666666665, 37: 0.019666666666666666, 0: 0.0078, 1: 0.02161333333333333, 38: 0.0286, 31: 0.018933333333333333, 23: 0.018546666666666666, 39: 0.015813333333333332, 8: 0.010053333333333333, 13: 0.012106666666666667, 33: 0.019306666666666666, 5: 0.051866666666666665, 41: 0.04332, 46: 0.015826666666666666, 3: 0.02764, 7: 0.012813333333333333, 19: 0.008386666666666667})]\n"
     ]
    }
   ],
   "source": [
    "print(model.cluster_distributions)\n",
    "                                "
   ]
  },
  {
   "cell_type": "code",
   "execution_count": null,
   "metadata": {},
   "outputs": [],
   "source": []
  }
 ],
 "metadata": {
  "kernelspec": {
   "display_name": "Python 3",
   "language": "python",
   "name": "python3"
  },
  "language_info": {
   "codemirror_mode": {
    "name": "ipython",
    "version": 3
   },
   "file_extension": ".py",
   "mimetype": "text/x-python",
   "name": "python",
   "nbconvert_exporter": "python",
   "pygments_lexer": "ipython3",
   "version": "3.6.6"
  }
 },
 "nbformat": 4,
 "nbformat_minor": 2
}
