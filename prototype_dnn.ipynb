{
 "cells": [
  {
   "cell_type": "code",
   "execution_count": 1,
   "metadata": {},
   "outputs": [],
   "source": [
    "from models import gmm, lstm\n",
    "from extractor import extractor\n",
    "import os\n",
    "import importlib\n",
    "import numpy as np\n",
    "import matplotlib.pyplot as plt\n",
    "from collections import Counter\n",
    "from collections import OrderedDict"
   ]
  },
  {
   "cell_type": "code",
   "execution_count": 23,
   "metadata": {
    "scrolled": false
   },
   "outputs": [
    {
     "data": {
      "text/plain": [
       "0.583312025909827"
      ]
     },
     "execution_count": 23,
     "metadata": {},
     "output_type": "execute_result"
    }
   ],
   "source": [
    "# Google Model\n",
    "importlib.reload(lstm)\n",
    "_lstm = lstm.MixedLSTM(\n",
    "                n_features = 39,\n",
    "                n_hidden = 2560,\n",
    "                languages = 2, \n",
    "                total_frames = 150,\n",
    "                dropout=0,\n",
    "                bidirectional=True,\n",
    "                lstm_layers = 1,\n",
    "                linear_layers = 4)\n",
    "\n",
    "l = torch.load('/Users/oosv/Downloads/model (12)/model_2.pth')\n",
    "d = OrderedDict()\n",
    "for k1,k2 in zip(_lstm.state_dict(), l):\n",
    "    d[k1] = l[k2]\n",
    "\n",
    "_lstm.load_state_dict(d)\n",
    "pred_x  = _lstm.predict_all(test_x)\n",
    "np.average(pred_x == test_y)"
   ]
  },
  {
   "cell_type": "code",
   "execution_count": 17,
   "metadata": {},
   "outputs": [
    {
     "data": {
      "text/plain": [
       "0.8219551691809427"
      ]
     },
     "execution_count": 17,
     "metadata": {},
     "output_type": "execute_result"
    }
   ],
   "source": [
    "# Basic version trained on 16xlarge\n",
    "importlib.reload(lstm)\n",
    "_lstm = lstm.MixedLSTM(\n",
    "                n_features = 39,\n",
    "                n_hidden = 512,\n",
    "                languages = 2, \n",
    "                total_frames = 150,\n",
    "                dropout=0,\n",
    "                bidirectional=True,\n",
    "                lstm_layers = 1,\n",
    "                linear_layers = 1)\n",
    "\n",
    "l = torch.load('/Users/oosv/Downloads/model (24)/model_5.pth')\n",
    "d = OrderedDict()\n",
    "for k1,k2 in zip(_lstm.state_dict(), l):\n",
    "    d[k1] = l[k2]\n",
    "\n",
    "_lstm.load_state_dict(d)\n",
    "pred_x  = _lstm.predict_all(test_x)\n",
    "np.average(pred_x == test_y)"
   ]
  },
  {
   "cell_type": "code",
   "execution_count": 19,
   "metadata": {},
   "outputs": [
    {
     "data": {
      "text/plain": [
       "0.7506179152816841"
      ]
     },
     "execution_count": 19,
     "metadata": {},
     "output_type": "execute_result"
    }
   ],
   "source": [
    "# Dropout trained on 16xLarge\n",
    "importlib.reload(lstm)\n",
    "_lstm = lstm.MixedLSTM(\n",
    "                n_features = 39,\n",
    "                n_hidden = 512,\n",
    "                languages = 2, \n",
    "                total_frames = 150,\n",
    "                dropout=0.5,\n",
    "                bidirectional=True,\n",
    "                lstm_layers = 2,\n",
    "                linear_layers = 1)\n",
    "\n",
    "l = torch.load('/Users/oosv/Downloads/model (25)/model_5.pth')\n",
    "d = OrderedDict()\n",
    "for k1,k2 in zip(_lstm.state_dict(), l):\n",
    "    d[k1] = l[k2]\n",
    "\n",
    "_lstm.load_state_dict(d)\n",
    "pred_x  = _lstm.predict_all(test_x)\n",
    "np.average(pred_x == test_y)"
   ]
  }
 ],
 "metadata": {
  "kernelspec": {
   "display_name": "Python 3",
   "language": "python",
   "name": "python3"
  },
  "language_info": {
   "codemirror_mode": {
    "name": "ipython",
    "version": 3
   },
   "file_extension": ".py",
   "mimetype": "text/x-python",
   "name": "python",
   "nbconvert_exporter": "python",
   "pygments_lexer": "ipython3",
   "version": "3.6.7"
  }
 },
 "nbformat": 4,
 "nbformat_minor": 2
}
